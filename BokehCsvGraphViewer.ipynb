{
  "nbformat": 4,
  "nbformat_minor": 0,
  "metadata": {
    "colab": {
      "provenance": [],
      "include_colab_link": true
    },
    "kernelspec": {
      "name": "python3",
      "display_name": "Python 3"
    },
    "language_info": {
      "name": "python"
    }
  },
  "cells": [
    {
      "cell_type": "markdown",
      "metadata": {
        "id": "view-in-github",
        "colab_type": "text"
      },
      "source": [
        "<a href=\"https://colab.research.google.com/github/SKMAAX/BokehCsvGraphViewer/blob/main/BokehCsvGraphViewer.ipynb\" target=\"_parent\"><img src=\"https://colab.research.google.com/assets/colab-badge.svg\" alt=\"Open In Colab\"/></a>"
      ]
    },
    {
      "cell_type": "markdown",
      "source": [
        " # Python BokehでCSV描画用htmlを生成する [![Open In Colab](https://colab.research.google.com/assets/colab-badge.svg)](https://colab.research.google.com/github/SKMAAX/BokehCsvGraphViewer/blob/main/BokehCsvGraphViewer.ipynb)"
      ],
      "metadata": {
        "id": "_5Zb1HScKwaf"
      }
    },
    {
      "cell_type": "code",
      "execution_count": null,
      "metadata": {
        "colab": {
          "base_uri": "https://localhost:8080/",
          "height": 36
        },
        "id": "7UBEse2HrgTA",
        "outputId": "c609937e-1c7f-418a-8d71-1bc2ae94a439"
      },
      "outputs": [
        {
          "output_type": "execute_result",
          "data": {
            "text/plain": [
              "'/content/CsvGraphViewer.html'"
            ],
            "application/vnd.google.colaboratory.intrinsic+json": {
              "type": "string"
            }
          },
          "metadata": {},
          "execution_count": 1
        }
      ],
      "source": [
        "from bokeh.layouts import row, column\n",
        "from bokeh.models import Div, ColumnDataSource, CustomJS, FileInput, RangeTool, Range1d, HoverTool\n",
        "from bokeh.plotting import figure, save, output_file\n",
        "from bokeh.palettes import Category10\n",
        "\n",
        "output_file(\"CsvGraphViewer.html\", mode='inline') # オフラインで使うためinline設定\n",
        "ColumnList = [\"x\",\"y1\",\"y2\",\"y3\",\"y4\",\"y5\",\"y6\"] # 列ラベル(TODO:これもCSVファイルの列ラベルから更新できるはず…)\n",
        "initlist = [[0] for i in range(len(ColumnList))] # [[0],[0],・・・,[0]]\n",
        "\n",
        "dict_data = dict(zip(ColumnList,initlist))\n",
        "source = ColumnDataSource(data=dict_data)\n",
        "\n",
        "colors = list(Category10.values())[5] # 適当なカラーパレットを選択\n",
        "\n",
        "# マウスオーバーしたときに表示される項目の設定\n",
        "tooltips = [\n",
        "    (\"TimeCnt\", \"@x\"),\n",
        "    (\"(y1,y2)\", \"(@y1,@y2)\"),\n",
        "    (\"(y3,y4)\", \"(@y3,@y4)\"),\n",
        "    (\"(y5,y6)\", \"(@y5,@y6)\"),\n",
        "]\n",
        "\n",
        "# 描画領域の設定\n",
        "plot = figure(\n",
        "    plot_width=400, \n",
        "    plot_height=400,\n",
        "    x_range = Range1d(0,4096), # 横軸データ点数4096点 (TODO:これもCSVファイルの内容から更新できるはず…)\n",
        "    tooltips=tooltips,\n",
        "    )\n",
        "\n",
        "# グラフの描画\n",
        "for i in range(len(ColumnList)-1):\n",
        "    plot.line('x', list(dict_data.keys())[i+1], source=source, line_width=2, line_alpha=0.6, legend_label=list(dict_data.keys())[i+1], color=colors[i])\n",
        "    #plot.circle('x', list(dict_data.keys())[i+1], source=source, color=colors[i]) #ドット表示する場合\n",
        "\n",
        "plot.left[0].formatter.use_scientific = False # 指数表記にしない\n",
        "plot.legend.click_policy=\"hide\" # 凡例をクリックするとグラフ表示/非表示\n",
        "#plot.add_tools(HoverTool()) # マウスオーバーしたときに、詳細をポップアップ表示 → tooltipsで与えているので、不要\n",
        "\n",
        "# RangeTool(横方向の拡大縮小ができる)の設定\n",
        "range_plot = figure(\n",
        "    plot_height=200,\n",
        "    plot_width=plot.width,\n",
        "    y_range=plot.y_range,\n",
        "    toolbar_location=None,\n",
        "  )\n",
        "\n",
        "range_plot.line('x', 'y3', source=source) # RangeToolにはy3を表示させる\n",
        "range_rool = RangeTool(x_range=plot.x_range)\n",
        "range_plot.add_tools(range_rool)\n",
        "\n",
        "fi_label = Div(text='CsvGraphViewer') # divタグウィジェット\n",
        "fi = FileInput() # ファイル選択ウィジェット\n",
        "\n",
        "# ファイル選択時に実行されるコールバック関数の記述\n",
        "callback = CustomJS(\n",
        "    args=dict(source=source), # コールバック関数に渡すデータソース\n",
        "    code=\"\"\" // コールバック関数の記述(JavaScript)\n",
        "    Papa.parse(atob(cb_obj.value), {\n",
        "        delimiter: ',',\n",
        "        header: true,\n",
        "        dynamicTyping: true,\n",
        "        worker: true,\n",
        "        complete: function (results) {\n",
        "\n",
        "            // csvデータを格納するアキュムレータの初期化\n",
        "            const acc = results.meta.fields.reduce((acc, f) => {\n",
        "                acc[f] = [];\n",
        "                return acc;\n",
        "            }, {}); \n",
        "\n",
        "            // csvを1行データ(row)ごとに読み取り、さらに列(k)ごとに読み取ってaccに積み上げていく\n",
        "            // 最終行まで終わったら、積み終わったaccを更新後データとしてsorce.dataに渡す。\n",
        "            source.data = results.data.reduce((acc,row,index) => {\n",
        "                for (const k in acc) {\n",
        "                    acc[k].push(row[k]);\n",
        "                    }\n",
        "                return acc;\n",
        "            }, acc); \n",
        "\n",
        "        }\n",
        "    });\n",
        "\"\"\")\n",
        "\n",
        "# ファイル選択の内容が変わったらcallbackが実行されるようにセット\n",
        "# (同一ファイルを再選択してもcallbackは起動しない)\n",
        "fi.js_on_change('value', callback)\n",
        "\n",
        "# JavaScript内で使っているCSVパーサPapaParse用のテンプレート。ブラウザで起動時最初にここにアクセスしに行く。\n",
        "# papaparse.min.jsを落としてくれば、完全ローカル化もできる。\n",
        "template = \"\"\"\\\n",
        "{% block preamble %}\n",
        "<script src=\"https://cdnjs.cloudflare.com/ajax/libs/PapaParse/5.1.0/papaparse.min.js\"\n",
        "        integrity=\"sha256-Fh801SO9gqegfUdkDxyzXzIUPWzO/Vatqj8uN+5xcL4=\"\n",
        "        crossorigin=\"anonymous\"></script>\n",
        "{% endblock %}\n",
        "\"\"\"\n",
        "\n",
        "# 各ウィジェットの配置を設定\n",
        "layout = column(row(fi_label, fi), plot, range_plot)\n",
        "\n",
        "# PapaParseのテンプレートを使う関係上、show()でのスクリプト実行時のブラウザ起動はできない。\n",
        "# 本スクリプトではhtmlファイルの保存のみを行う。\n",
        "save(layout, template=template)"
      ]
    }
  ]
}